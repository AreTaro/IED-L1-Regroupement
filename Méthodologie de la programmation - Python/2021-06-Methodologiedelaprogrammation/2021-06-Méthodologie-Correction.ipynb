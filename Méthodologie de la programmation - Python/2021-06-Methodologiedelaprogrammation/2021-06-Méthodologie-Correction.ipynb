{
 "cells": [
  {
   "cell_type": "markdown",
   "id": "flush-combat",
   "metadata": {},
   "source": [
    "Nom         : \n",
    "Prenom      : \n",
    "N. Etudiant : "
   ]
  },
  {
   "cell_type": "markdown",
   "id": "southeast-wonder",
   "metadata": {},
   "source": [
    "> Pour votre convenance, l'énoncé est disponible au format .ipynb et .pdf. __Il s'agit du même exercice.__\n",
    "> \n",
    "> Vous pouvez réaliser les exercices directement sur jupyter et rendre le fichier .ipynb modifié par vos soins, sans oublier le fichier de sortie. __Pensez bien à indiquer votre nom, prénom et n. d'étudiant.__\n",
    "> \n",
    "> Vous devrez envoyer votre travail (exercice et fichier de sortie) sur le mail `josue.melka02@univ-paris8.fr`. Tout travail rendu après le délai fixé ne sera pas pris en compte."
   ]
  },
  {
   "cell_type": "markdown",
   "id": "deluxe-sculpture",
   "metadata": {},
   "source": [
    "# Exercice\n",
    "\n",
    "Soit le fichier `nombres.txt` contenant plusieurs listes de nombres séparés par des virgules, une par ligne, comme ceci :\n",
    "\n",
    "```\n",
    "lst_a : 17, 28, 31, 43, 53, 78, 217, 261, 346, 401, 409, 513, 577\n",
    "lst_b : 333, 206, 693, 197, 485, 404, 704, 363, 151, 424, 199, 936\n",
    "lst_c : 111, 174, 19, 267, 293, 354, 367, 391, 408, 445, 452, 492\n",
    "...\n",
    "```\n",
    "\n",
    "L'objectif est de vérifier si ces listes sont ordonnées ou non, et d'enregistrer le résultat dans un fichier."
   ]
  },
  {
   "cell_type": "markdown",
   "id": "designed-smooth",
   "metadata": {},
   "source": [
    "## Lecture d'une ligne\n",
    "\n",
    "Ecrire une fonction `lire_nombres(ligne)` qui lit une ligne du fichier et retourne un tuple avec le label de la ligne et la liste de nombres correspondant (type `int`).\n",
    "\n",
    "Exemple: \n",
    "\n",
    "```\n",
    ">>> lire_ligne(\"lst_a : 17, 28, 78, 217, 346, 409, 577, 588, 781\\n\")\n",
    "('lst_a', [17, 28, 78, 217, 346, 409, 577, 588, 781])\n",
    "```"
   ]
  },
  {
   "cell_type": "code",
   "execution_count": 38,
   "id": "hindu-start",
   "metadata": {},
   "outputs": [
    {
     "data": {
      "text/plain": [
       "('lst_a', [17, 28, 78, 217, 346, 409, 577, 588, 781])"
      ]
     },
     "execution_count": 38,
     "metadata": {},
     "output_type": "execute_result"
    }
   ],
   "source": [
    "def lire_ligne(ligne):\n",
    "    clean = \"\"\n",
    "    for caractère in ligne:\n",
    "        if caractère in (\":\", \",\"):\n",
    "            clean += \"\"\n",
    "        else:\n",
    "            clean += caractère\n",
    "    clean = clean.rstrip()        \n",
    "    clean = clean.split(\" \")\n",
    "    #print(clean)\n",
    "    \n",
    "    label = clean[0]\n",
    "    #print(label)\n",
    "    \n",
    "    clean = clean[2:]\n",
    "    #print(clean)\n",
    "    \n",
    "    for i in range(len(clean)):\n",
    "        clean[i] = int(clean[i])\n",
    "    #print(clean)\n",
    "    \n",
    "    res = []\n",
    "    res.append(label)\n",
    "    res.append(clean)\n",
    "    #print(res)\n",
    "    \n",
    "    return tuple(res)\n",
    "    \n",
    "lire_ligne(\"lst_a : 17, 28, 78, 217, 346, 409, 577, 588, 781\\n\")"
   ]
  },
  {
   "cell_type": "markdown",
   "id": "dominant-tongue",
   "metadata": {},
   "source": [
    "## Test d'ordre\n",
    "\n",
    "Ecrire une fonction `ordonne(liste)` qui retourne un booléen indiquant si une liste de nombres est ordonnée ou non (que ce soit en ordre croissant ou décroissant).\n",
    "\n",
    "Exemples: \n",
    "\n",
    "```\n",
    ">>> ordonne([1, 2, 3, 4])\n",
    "True\n",
    ">>> ordonne([3, 2, 4, 1])\n",
    "False\n",
    ">>> ordonne([4, 3, 2, 1])\n",
    "True\n",
    "```\n",
    "\n",
    "_Note: Vous pouvez réaliser des fonctions auxiliaires `croissant(liste)` et `decroissant(liste)` pour simplifier._"
   ]
  },
  {
   "cell_type": "code",
   "execution_count": 69,
   "id": "breeding-canon",
   "metadata": {},
   "outputs": [],
   "source": [
    "def ordonne(liste):\n",
    "    croissant = 0\n",
    "    décroissant = 0\n",
    "    \n",
    "    for i in range(len(liste)-1):\n",
    "        #croissant\n",
    "        if liste[i] < liste[i+1]:\n",
    "            #print(\"croissant\")\n",
    "            croissant += 1\n",
    "        else :\n",
    "            if liste[i] > liste[i+1]:\n",
    "                #print(\"décroissant\")\n",
    "                décroissant += 1\n",
    "    \n",
    "    #print(croissant, décroissant, len(liste)-1)\n",
    "    if (croissant or décroissant) >= (len(liste)-1):\n",
    "        return True\n",
    "    else:\n",
    "        return False\n"
   ]
  },
  {
   "cell_type": "code",
   "execution_count": 70,
   "id": "racial-stewart",
   "metadata": {},
   "outputs": [
    {
     "data": {
      "text/plain": [
       "True"
      ]
     },
     "execution_count": 70,
     "metadata": {},
     "output_type": "execute_result"
    }
   ],
   "source": [
    "ordonne([1, 2, 3, 4])"
   ]
  },
  {
   "cell_type": "markdown",
   "id": "broken-thing",
   "metadata": {},
   "source": [
    "## Lecture du fichier\n",
    "\n",
    "Lire le fichier ligne par ligne en convertissant les lignes en listes de nombres avec la fonction vue en **1**."
   ]
  },
  {
   "cell_type": "code",
   "execution_count": 73,
   "id": "swedish-frank",
   "metadata": {},
   "outputs": [
    {
     "name": "stdout",
     "output_type": "stream",
     "text": [
      "[935, 915, 876, 868, 812, 734, 725, 72, 70, 670, 648, 564, 545, 457, 394, 344, 263, 207, 205, 177]\n",
      "[23, 22, 718, 215, 963, 762, 725, 880, 20, 878, 606, 926, 482, 416, 64, 316, 106, 808, 383, 819]\n",
      "[105, 146, 177, 23, 391, 410, 450, 523, 555, 58, 602, 70, 77, 790, 837, 838, 89, 944, 960, 981]\n",
      "[908, 825, 815, 772, 666, 654, 653, 625, 584, 571, 548, 534, 425, 374, 359, 194, 188, 146, 134, 127]\n",
      "[993, 987, 972, 902, 898, 863, 781, 747, 669, 644, 592, 507, 470, 402, 186, 159, 144, 140, 115, 60]\n",
      "[980, 929, 925, 833, 776, 700, 658, 641, 630, 620, 556, 54, 486, 450, 44, 398, 374, 209, 186, 142]\n",
      "[29, 162, 219, 237, 269, 272, 417, 450, 512, 530, 557, 600, 700, 758, 760, 829, 835, 877, 889, 962]\n",
      "[603, 694, 467, 949, 121, 835, 461, 244, 32, 570, 360, 928, 522, 170, 845, 297, 455, 271, 727, 285]\n",
      "[10, 19, 93, 106, 130, 153, 219, 269, 279, 348, 407, 422, 469, 483, 487, 578, 647, 748, 861, 999]\n",
      "[110, 130, 192, 278, 292, 326, 329, 354, 380, 43, 451, 452, 468, 566, 570, 674, 769, 818, 835, 849]\n",
      "[37, 59, 138, 170, 245, 283, 284, 298, 413, 430, 477, 603, 699, 706, 713, 714, 734, 878, 961, 976]\n",
      "[990, 974, 951, 897, 884, 754, 743, 722, 712, 694, 677, 634, 619, 592, 531, 453, 405, 320, 288, 147]\n",
      "[959, 920, 895, 830, 712, 642, 613, 591, 573, 564, 525, 473, 386, 358, 139, 134, 129, 71, 61, 40]\n"
     ]
    }
   ],
   "source": [
    "with open(\"nombres.txt\", \"r\") as fp:\n",
    "    for ligne in fp:\n",
    "        var = fp.readline()\n",
    "        var = lire_ligne(var)\n",
    "        print(var[1])"
   ]
  },
  {
   "cell_type": "markdown",
   "id": "adolescent-creature",
   "metadata": {},
   "source": [
    "## Ecriture des resultats\n",
    "\n",
    "Produire les resultats dans le fichier `resultats.txt` sous cette forme.\n",
    "\n",
    "```\n",
    "lst_a : Non\n",
    "lst_b : Non\n",
    "lst_c : Non\n",
    "lst_d : Non\n",
    "...\n",
    "```\n",
    "\n",
    "_Note: Vous pouvez utiliser la fonction vue en **2**._"
   ]
  },
  {
   "cell_type": "code",
   "execution_count": null,
   "id": "offshore-midwest",
   "metadata": {},
   "outputs": [],
   "source": []
  }
 ],
 "metadata": {
  "kernelspec": {
   "display_name": "Python 3",
   "language": "python",
   "name": "python3"
  },
  "language_info": {
   "codemirror_mode": {
    "name": "ipython",
    "version": 3
   },
   "file_extension": ".py",
   "mimetype": "text/x-python",
   "name": "python",
   "nbconvert_exporter": "python",
   "pygments_lexer": "ipython3",
   "version": "3.9.5"
  }
 },
 "nbformat": 4,
 "nbformat_minor": 5
}
